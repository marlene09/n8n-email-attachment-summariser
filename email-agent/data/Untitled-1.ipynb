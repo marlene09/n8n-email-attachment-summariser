{
 "cells": [
  {
   "cell_type": "code",
   "execution_count": 3,
   "id": "eba3c33e",
   "metadata": {},
   "outputs": [
    {
     "name": "stdout",
     "output_type": "stream",
     "text": [
      "Response: A simple greeting! Hello back to you! How can I help or chat with you today?\n",
      "CPU usage during inference: 8.5 %\n"
     ]
    }
   ],
   "source": [
    "import psutil\n",
    "import time\n",
    "import ollama\n",
    "\n",
    "# Start CPU monitoring\n",
    "cpu_start = psutil.cpu_percent(interval=None)\n",
    "\n",
    "# Run a simple inference\n",
    "prompt = \"Hello, test.\"\n",
    "response = ollama.chat(\n",
    "    model=\"llama3\",\n",
    "    messages=[{\"role\": \"user\", \"content\": prompt}]\n",
    ")\n",
    "\n",
    "# End CPU monitoring\n",
    "cpu_end = psutil.cpu_percent(interval=None)\n",
    "\n",
    "print(\"Response:\", response.message.content)\n",
    "print(\"CPU usage during inference:\", cpu_end - cpu_start, \"%\")\n"
   ]
  },
  {
   "cell_type": "code",
   "execution_count": 17,
   "id": "bdcc2d9c",
   "metadata": {},
   "outputs": [],
   "source": [
    "from pdf2image import convert_from_path\n",
    "\n",
    "pages = convert_from_path(\"/Users/marlenepostop/Documents/n8n-agent/data/old.pdf\")\n",
    "for page in pages:\n",
    "    page.save('out.png', 'PNG')"
   ]
  },
  {
   "cell_type": "code",
   "execution_count": 8,
   "id": "a7e9ebe7",
   "metadata": {},
   "outputs": [
    {
     "ename": "RuntimeError",
     "evalue": "asyncio.run() cannot be called from a running event loop",
     "output_type": "error",
     "traceback": [
      "\u001b[31m---------------------------------------------------------------------------\u001b[39m",
      "\u001b[31mRuntimeError\u001b[39m                              Traceback (most recent call last)",
      "\u001b[36mCell\u001b[39m\u001b[36m \u001b[39m\u001b[32mIn[8]\u001b[39m\u001b[32m, line 27\u001b[39m\n\u001b[32m     24\u001b[39m         \u001b[38;5;28;01mawait\u001b[39;00m browser.close()\n\u001b[32m     26\u001b[39m \u001b[38;5;66;03m# Run the async function\u001b[39;00m\n\u001b[32m---> \u001b[39m\u001b[32m27\u001b[39m \u001b[43masyncio\u001b[49m\u001b[43m.\u001b[49m\u001b[43mrun\u001b[49m\u001b[43m(\u001b[49m\u001b[43mpdf_to_images\u001b[49m\u001b[43m(\u001b[49m\u001b[43m)\u001b[49m\u001b[43m)\u001b[49m\n",
      "\u001b[36mFile \u001b[39m\u001b[32m/opt/homebrew/Cellar/python@3.13/3.13.3_1/Frameworks/Python.framework/Versions/3.13/lib/python3.13/asyncio/runners.py:191\u001b[39m, in \u001b[36mrun\u001b[39m\u001b[34m(main, debug, loop_factory)\u001b[39m\n\u001b[32m    161\u001b[39m \u001b[38;5;250m\u001b[39m\u001b[33;03m\"\"\"Execute the coroutine and return the result.\u001b[39;00m\n\u001b[32m    162\u001b[39m \n\u001b[32m    163\u001b[39m \u001b[33;03mThis function runs the passed coroutine, taking care of\u001b[39;00m\n\u001b[32m   (...)\u001b[39m\u001b[32m    187\u001b[39m \u001b[33;03m    asyncio.run(main())\u001b[39;00m\n\u001b[32m    188\u001b[39m \u001b[33;03m\"\"\"\u001b[39;00m\n\u001b[32m    189\u001b[39m \u001b[38;5;28;01mif\u001b[39;00m events._get_running_loop() \u001b[38;5;129;01mis\u001b[39;00m \u001b[38;5;129;01mnot\u001b[39;00m \u001b[38;5;28;01mNone\u001b[39;00m:\n\u001b[32m    190\u001b[39m     \u001b[38;5;66;03m# fail fast with short traceback\u001b[39;00m\n\u001b[32m--> \u001b[39m\u001b[32m191\u001b[39m     \u001b[38;5;28;01mraise\u001b[39;00m \u001b[38;5;167;01mRuntimeError\u001b[39;00m(\n\u001b[32m    192\u001b[39m         \u001b[33m\"\u001b[39m\u001b[33masyncio.run() cannot be called from a running event loop\u001b[39m\u001b[33m\"\u001b[39m)\n\u001b[32m    194\u001b[39m \u001b[38;5;28;01mwith\u001b[39;00m Runner(debug=debug, loop_factory=loop_factory) \u001b[38;5;28;01mas\u001b[39;00m runner:\n\u001b[32m    195\u001b[39m     \u001b[38;5;28;01mreturn\u001b[39;00m runner.run(main)\n",
      "\u001b[31mRuntimeError\u001b[39m: asyncio.run() cannot be called from a running event loop"
     ]
    }
   ],
   "source": [
    "import asyncio\n",
    "from playwright.async_api import async_playwright\n",
    "import os\n",
    "\n",
    "\n",
    "PDF_PATH = \"/Users/marlenepostop/Documents/n8n-agent/data/old.pdf\"\n",
    "OUTPUT_DIR = \"/Users/marlenepostop/Documents/n8n-agent/output_images\"\n",
    "os.makedirs(OUTPUT_DIR, exist_ok=True)\n",
    "\n",
    "async def pdf_to_images():\n",
    "    async with async_playwright() as p:\n",
    "        browser = await p.chromium.launch(headless=True)\n",
    "        context = await browser.new_context()\n",
    "        page = await context.new_page()\n",
    "\n",
    "        # Load PDF\n",
    "        await page.goto(f\"file://{PDF_PATH}\")\n",
    "\n",
    "        # Take a screenshot of the first page\n",
    "        screenshot_path = os.path.join(OUTPUT_DIR, \"page_1.png\")\n",
    "        await page.screenshot(path=screenshot_path, full_page=True)\n",
    "        print(f\"Saved screenshot: {screenshot_path}\")\n",
    "\n",
    "        await browser.close()\n",
    "\n",
    "# Run the async function\n",
    "asyncio.run(pdf_to_images())"
   ]
  }
 ],
 "metadata": {
  "kernelspec": {
   "display_name": "n8nvenv",
   "language": "python",
   "name": "python3"
  },
  "language_info": {
   "codemirror_mode": {
    "name": "ipython",
    "version": 3
   },
   "file_extension": ".py",
   "mimetype": "text/x-python",
   "name": "python",
   "nbconvert_exporter": "python",
   "pygments_lexer": "ipython3",
   "version": "3.13.3"
  }
 },
 "nbformat": 4,
 "nbformat_minor": 5
}
